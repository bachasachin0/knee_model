{
 "cells": [
  {
   "cell_type": "markdown",
   "metadata": {},
   "source": [
    "# Import required Libraries"
   ]
  },
  {
   "cell_type": "code",
   "execution_count": 1,
   "metadata": {},
   "outputs": [],
   "source": [
    "import pandas as pd"
   ]
  },
  {
   "cell_type": "markdown",
   "metadata": {},
   "source": [
    "# Load the dataset"
   ]
  },
  {
   "cell_type": "code",
   "execution_count": 2,
   "metadata": {},
   "outputs": [],
   "source": [
    "df=pd.read_csv(r\"D:\\knee_ml_model\\dataset\\updated_data.csv\")"
   ]
  },
  {
   "cell_type": "code",
   "execution_count": 3,
   "metadata": {},
   "outputs": [
    {
     "data": {
      "text/html": [
       "<div>\n",
       "<style scoped>\n",
       "    .dataframe tbody tr th:only-of-type {\n",
       "        vertical-align: middle;\n",
       "    }\n",
       "\n",
       "    .dataframe tbody tr th {\n",
       "        vertical-align: top;\n",
       "    }\n",
       "\n",
       "    .dataframe thead th {\n",
       "        text-align: right;\n",
       "    }\n",
       "</style>\n",
       "<table border=\"1\" class=\"dataframe\">\n",
       "  <thead>\n",
       "    <tr style=\"text-align: right;\">\n",
       "      <th></th>\n",
       "      <th>Patient_Type</th>\n",
       "      <th>Flexion_Angle</th>\n",
       "      <th>Flexion_Category</th>\n",
       "      <th>Recovery_Time_Estimate (Weeks)</th>\n",
       "      <th>pain_curability_percent</th>\n",
       "    </tr>\n",
       "  </thead>\n",
       "  <tbody>\n",
       "    <tr>\n",
       "      <th>0</th>\n",
       "      <td>Normal</td>\n",
       "      <td>176</td>\n",
       "      <td>fully_stretched</td>\n",
       "      <td>0</td>\n",
       "      <td>99.00</td>\n",
       "    </tr>\n",
       "    <tr>\n",
       "      <th>1</th>\n",
       "      <td>Normal</td>\n",
       "      <td>101</td>\n",
       "      <td>partially_bent</td>\n",
       "      <td>0</td>\n",
       "      <td>84.15</td>\n",
       "    </tr>\n",
       "    <tr>\n",
       "      <th>2</th>\n",
       "      <td>Normal</td>\n",
       "      <td>43</td>\n",
       "      <td>fully_bent</td>\n",
       "      <td>0</td>\n",
       "      <td>69.30</td>\n",
       "    </tr>\n",
       "    <tr>\n",
       "      <th>3</th>\n",
       "      <td>Normal</td>\n",
       "      <td>177</td>\n",
       "      <td>fully_stretched</td>\n",
       "      <td>0</td>\n",
       "      <td>99.00</td>\n",
       "    </tr>\n",
       "    <tr>\n",
       "      <th>4</th>\n",
       "      <td>Normal</td>\n",
       "      <td>92</td>\n",
       "      <td>partially_bent</td>\n",
       "      <td>0</td>\n",
       "      <td>84.15</td>\n",
       "    </tr>\n",
       "  </tbody>\n",
       "</table>\n",
       "</div>"
      ],
      "text/plain": [
       "  Patient_Type  Flexion_Angle Flexion_Category  \\\n",
       "0       Normal            176  fully_stretched   \n",
       "1       Normal            101   partially_bent   \n",
       "2       Normal             43       fully_bent   \n",
       "3       Normal            177  fully_stretched   \n",
       "4       Normal             92   partially_bent   \n",
       "\n",
       "   Recovery_Time_Estimate (Weeks)  pain_curability_percent  \n",
       "0                               0                    99.00  \n",
       "1                               0                    84.15  \n",
       "2                               0                    69.30  \n",
       "3                               0                    99.00  \n",
       "4                               0                    84.15  "
      ]
     },
     "execution_count": 3,
     "metadata": {},
     "output_type": "execute_result"
    }
   ],
   "source": [
    "df.head()"
   ]
  },
  {
   "cell_type": "code",
   "execution_count": 4,
   "metadata": {},
   "outputs": [
    {
     "data": {
      "text/plain": [
       "Index(['Patient_Type', 'Flexion_Angle', 'Flexion_Category',\n",
       "       'Recovery_Time_Estimate (Weeks)', 'pain_curability_percent'],\n",
       "      dtype='object')"
      ]
     },
     "execution_count": 4,
     "metadata": {},
     "output_type": "execute_result"
    }
   ],
   "source": [
    "df.columns"
   ]
  },
  {
   "cell_type": "code",
   "execution_count": 5,
   "metadata": {},
   "outputs": [
    {
     "name": "stdout",
     "output_type": "stream",
     "text": [
      "<class 'pandas.core.frame.DataFrame'>\n",
      "RangeIndex: 3000 entries, 0 to 2999\n",
      "Data columns (total 5 columns):\n",
      " #   Column                          Non-Null Count  Dtype  \n",
      "---  ------                          --------------  -----  \n",
      " 0   Patient_Type                    3000 non-null   object \n",
      " 1   Flexion_Angle                   3000 non-null   int64  \n",
      " 2   Flexion_Category                3000 non-null   object \n",
      " 3   Recovery_Time_Estimate (Weeks)  3000 non-null   int64  \n",
      " 4   pain_curability_percent         3000 non-null   float64\n",
      "dtypes: float64(1), int64(2), object(2)\n",
      "memory usage: 117.3+ KB\n"
     ]
    }
   ],
   "source": [
    "df.info()"
   ]
  },
  {
   "cell_type": "markdown",
   "metadata": {},
   "source": [
    "### check Statistical counts"
   ]
  },
  {
   "cell_type": "code",
   "execution_count": 6,
   "metadata": {},
   "outputs": [
    {
     "data": {
      "text/html": [
       "<div>\n",
       "<style scoped>\n",
       "    .dataframe tbody tr th:only-of-type {\n",
       "        vertical-align: middle;\n",
       "    }\n",
       "\n",
       "    .dataframe tbody tr th {\n",
       "        vertical-align: top;\n",
       "    }\n",
       "\n",
       "    .dataframe thead th {\n",
       "        text-align: right;\n",
       "    }\n",
       "</style>\n",
       "<table border=\"1\" class=\"dataframe\">\n",
       "  <thead>\n",
       "    <tr style=\"text-align: right;\">\n",
       "      <th></th>\n",
       "      <th>Flexion_Angle</th>\n",
       "      <th>Recovery_Time_Estimate (Weeks)</th>\n",
       "      <th>pain_curability_percent</th>\n",
       "    </tr>\n",
       "  </thead>\n",
       "  <tbody>\n",
       "    <tr>\n",
       "      <th>count</th>\n",
       "      <td>3000.000000</td>\n",
       "      <td>3000.000000</td>\n",
       "      <td>3000.000000</td>\n",
       "    </tr>\n",
       "    <tr>\n",
       "      <th>mean</th>\n",
       "      <td>110.774667</td>\n",
       "      <td>17.661667</td>\n",
       "      <td>50.629343</td>\n",
       "    </tr>\n",
       "    <tr>\n",
       "      <th>std</th>\n",
       "      <td>50.972109</td>\n",
       "      <td>14.213768</td>\n",
       "      <td>26.684044</td>\n",
       "    </tr>\n",
       "    <tr>\n",
       "      <th>min</th>\n",
       "      <td>30.000000</td>\n",
       "      <td>0.000000</td>\n",
       "      <td>4.200000</td>\n",
       "    </tr>\n",
       "    <tr>\n",
       "      <th>25%</th>\n",
       "      <td>70.000000</td>\n",
       "      <td>6.750000</td>\n",
       "      <td>31.975000</td>\n",
       "    </tr>\n",
       "    <tr>\n",
       "      <th>50%</th>\n",
       "      <td>97.000000</td>\n",
       "      <td>17.000000</td>\n",
       "      <td>52.490000</td>\n",
       "    </tr>\n",
       "    <tr>\n",
       "      <th>75%</th>\n",
       "      <td>176.000000</td>\n",
       "      <td>28.000000</td>\n",
       "      <td>70.425000</td>\n",
       "    </tr>\n",
       "    <tr>\n",
       "      <th>max</th>\n",
       "      <td>180.000000</td>\n",
       "      <td>46.000000</td>\n",
       "      <td>99.000000</td>\n",
       "    </tr>\n",
       "  </tbody>\n",
       "</table>\n",
       "</div>"
      ],
      "text/plain": [
       "       Flexion_Angle  Recovery_Time_Estimate (Weeks)  pain_curability_percent\n",
       "count    3000.000000                     3000.000000              3000.000000\n",
       "mean      110.774667                       17.661667                50.629343\n",
       "std        50.972109                       14.213768                26.684044\n",
       "min        30.000000                        0.000000                 4.200000\n",
       "25%        70.000000                        6.750000                31.975000\n",
       "50%        97.000000                       17.000000                52.490000\n",
       "75%       176.000000                       28.000000                70.425000\n",
       "max       180.000000                       46.000000                99.000000"
      ]
     },
     "execution_count": 6,
     "metadata": {},
     "output_type": "execute_result"
    }
   ],
   "source": [
    "df.describe()"
   ]
  },
  {
   "cell_type": "markdown",
   "metadata": {},
   "source": [
    "### check the unique variables of each column"
   ]
  },
  {
   "cell_type": "code",
   "execution_count": 7,
   "metadata": {},
   "outputs": [
    {
     "data": {
      "text/plain": [
       "Patient_Type                       4\n",
       "Flexion_Angle                     97\n",
       "Flexion_Category                   3\n",
       "Recovery_Time_Estimate (Weeks)    10\n",
       "pain_curability_percent           17\n",
       "dtype: int64"
      ]
     },
     "execution_count": 7,
     "metadata": {},
     "output_type": "execute_result"
    }
   ],
   "source": [
    "df.nunique()"
   ]
  },
  {
   "cell_type": "markdown",
   "metadata": {},
   "source": [
    "### Check what are the categories Present in Categorical columns"
   ]
  },
  {
   "cell_type": "code",
   "execution_count": 8,
   "metadata": {},
   "outputs": [
    {
     "name": "stdout",
     "output_type": "stream",
     "text": [
      "['Normal' 'Mild' 'Moderate' 'Severe']\n",
      "['fully_stretched' 'partially_bent' 'fully_bent']\n"
     ]
    }
   ],
   "source": [
    "print(df[\"Patient_Type\"].unique())\n",
    "print(df[\"Flexion_Category\"].unique())"
   ]
  },
  {
   "cell_type": "markdown",
   "metadata": {},
   "source": [
    "### Preprocessing and Model performance"
   ]
  },
  {
   "cell_type": "code",
   "execution_count": 12,
   "metadata": {},
   "outputs": [
    {
     "name": "stdout",
     "output_type": "stream",
     "text": [
      "Linear Regression Results:\n",
      "MAE: 2.02\n",
      "RMSE: 3.06\n",
      "------------------------------\n",
      "Decision Tree Results:\n",
      "MAE: 0.00\n",
      "RMSE: 0.00\n",
      "------------------------------\n",
      "Random Forest Results:\n",
      "MAE: 0.00\n",
      "RMSE: 0.00\n",
      "------------------------------\n",
      "Support Vector Regressor Results:\n",
      "MAE: 1.20\n",
      "RMSE: 2.80\n",
      "------------------------------\n",
      "Model Performance Summary:\n",
      "Linear Regression - MAE: 2.02, RMSE: 3.06\n",
      "Decision Tree - MAE: 0.00, RMSE: 0.00\n",
      "Random Forest - MAE: 0.00, RMSE: 0.00\n",
      "Support Vector Regressor - MAE: 1.20, RMSE: 2.80\n"
     ]
    }
   ],
   "source": [
    "import pandas as pd\n",
    "import numpy as np\n",
    "from sklearn.model_selection import train_test_split, cross_val_score\n",
    "from sklearn.preprocessing import OneHotEncoder, StandardScaler\n",
    "from sklearn.compose import ColumnTransformer\n",
    "from sklearn.pipeline import Pipeline\n",
    "from sklearn.metrics import mean_absolute_error, mean_squared_error\n",
    "from sklearn.linear_model import LinearRegression\n",
    "from sklearn.tree import DecisionTreeRegressor\n",
    "from sklearn.ensemble import RandomForestRegressor\n",
    "from sklearn.svm import SVR\n",
    "\n",
    "# Load data\n",
    "data = pd.read_csv(r\"D:\\knee_ml_model\\dataset\\updated_data.csv\")\n",
    "\n",
    "\n",
    "\n",
    "# Preprocessing: Define features (X) and target (y)\n",
    "X = data[['Patient_Type', 'Flexion_Angle', 'Flexion_Category',]]\n",
    "y = data['pain_curability_percent']\n",
    "\n",
    "# Split into training and testing sets\n",
    "X_train, X_test, y_train, y_test = train_test_split(X, y, test_size=0.2, random_state=42)\n",
    "\n",
    "# Preprocessing pipeline\n",
    "# Define categorical and numerical features\n",
    "categorical_features = ['Patient_Type', 'Flexion_Category']\n",
    "numerical_features = ['Flexion_Angle']\n",
    "\n",
    "# Create a column transformer for preprocessing\n",
    "preprocessor = ColumnTransformer(\n",
    "    transformers=[\n",
    "        ('num', StandardScaler(), numerical_features),\n",
    "        ('cat', OneHotEncoder(drop='first'), categorical_features)\n",
    "    ]\n",
    ")\n",
    "\n",
    "# Define different models to evaluate\n",
    "models = {\n",
    "    'Linear Regression': LinearRegression(),\n",
    "    'Decision Tree': DecisionTreeRegressor(random_state=42),\n",
    "    'Random Forest': RandomForestRegressor(random_state=42, n_estimators=100),\n",
    "    'Support Vector Regressor': SVR()\n",
    "}\n",
    "\n",
    "# Function to evaluate models\n",
    "def evaluate_model(name, model, X_train, X_test, y_train, y_test):\n",
    "    # Create a pipeline with preprocessor and model\n",
    "    pipeline = Pipeline(steps=[('preprocessor', preprocessor), ('model', model)])\n",
    "    \n",
    "    # Fit the pipeline on the training data\n",
    "    pipeline.fit(X_train, y_train)\n",
    "    \n",
    "    # Predict on the test set\n",
    "    y_pred = pipeline.predict(X_test)\n",
    "    \n",
    "    # Calculate metrics\n",
    "    mae = mean_absolute_error(y_test, y_pred)\n",
    "    mse = mean_squared_error(y_test, y_pred)\n",
    "    rmse = np.sqrt(mse)\n",
    "    \n",
    "    # Print results\n",
    "    print(f\"{name} Results:\")\n",
    "    print(f\"MAE: {mae:.2f}\")\n",
    "    print(f\"RMSE: {rmse:.2f}\")\n",
    "    print(\"-\" * 30)\n",
    "    \n",
    "    return mae, rmse\n",
    "\n",
    "# Evaluate each model\n",
    "results = {}\n",
    "for name, model in models.items():\n",
    "    mae, rmse = evaluate_model(name, model, X_train, X_test, y_train, y_test)\n",
    "    results[name] = {'MAE': mae, 'RMSE': rmse}\n",
    "\n",
    "# Display results\n",
    "print(\"Model Performance Summary:\")\n",
    "for model_name, metrics in results.items():\n",
    "    print(f\"{model_name} - MAE: {metrics['MAE']:.2f}, RMSE: {metrics['RMSE']:.2f}\")\n"
   ]
  },
  {
   "cell_type": "markdown",
   "metadata": {},
   "source": [
    "### *Result* : We can observe that Decison Tree and Random Forest have zero error metrics but we decided to choose Random Forest due to its ensemble capabilities ."
   ]
  }
 ],
 "metadata": {
  "kernelspec": {
   "display_name": "venv",
   "language": "python",
   "name": "python3"
  },
  "language_info": {
   "codemirror_mode": {
    "name": "ipython",
    "version": 3
   },
   "file_extension": ".py",
   "mimetype": "text/x-python",
   "name": "python",
   "nbconvert_exporter": "python",
   "pygments_lexer": "ipython3",
   "version": "3.8.0"
  }
 },
 "nbformat": 4,
 "nbformat_minor": 2
}
